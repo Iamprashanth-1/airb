{
 "cells": [
  {
   "cell_type": "code",
   "execution_count": 4,
   "metadata": {},
   "outputs": [],
   "source": [
    "import clickhouse_connect\n",
    "\n",
    "client = clickhouse_connect.get_client(host='dd8vv8kg7q.us-east-1.aws.clickhouse.cloud', port=8443, username='default', password='C4.Z.~~oGqX5p')"
   ]
  },
  {
   "cell_type": "code",
   "execution_count": 41,
   "metadata": {},
   "outputs": [],
   "source": [
    "import uuid\n"
   ]
  },
  {
   "cell_type": "code",
   "execution_count": 42,
   "metadata": {},
   "outputs": [],
   "source": [
    "import pandas as pd\n",
    "\n",
    "df = pd.read_excel('aircraft_parts_data.xlsx', sheet_name='Dataset')\n",
    "# df = pd.read_sql('SELECT * FROM default.test', client)\n",
    "df['airId'] = df.apply(lambda x: uuid.uuid4(), axis=1)"
   ]
  },
  {
   "cell_type": "code",
   "execution_count": 43,
   "metadata": {},
   "outputs": [],
   "source": [
    "for i in df.columns:\n",
    "    if df[i].dtype == 'object':\n",
    "        df[i] = df[i].astype('string')"
   ]
  },
  {
   "cell_type": "code",
   "execution_count": 24,
   "metadata": {},
   "outputs": [
    {
     "name": "stdout",
     "output_type": "stream",
     "text": [
      "<class 'pandas.core.frame.DataFrame'>\n",
      "RangeIndex: 10000 entries, 0 to 9999\n",
      "Data columns (total 29 columns):\n",
      " #   Column                                     Non-Null Count  Dtype  \n",
      "---  ------                                     --------------  -----  \n",
      " 0   Part Name                                  10000 non-null  string \n",
      " 1   Material Composition                       10000 non-null  string \n",
      " 2   Age (years)                                10000 non-null  float64\n",
      " 3   Condition                                  10000 non-null  string \n",
      " 4   Location                                   10000 non-null  string \n",
      " 5   Manufacturer                               10000 non-null  string \n",
      " 6   Aircraft Model                             10000 non-null  string \n",
      " 7   Potential Use Cases                        10000 non-null  string \n",
      " 8   New Parts Carbon Footprint (kg CO2e)       10000 non-null  float64\n",
      " 9   Recycled Parts Carbon Footprint (kg CO2e)  10000 non-null  float64\n",
      " 10  Water Usage - New Parts (liters)           10000 non-null  float64\n",
      " 11  Water Usage - Recycled Parts (liters)      10000 non-null  float64\n",
      " 12  Landfill Waste - New Parts (kg)            10000 non-null  float64\n",
      " 13  Landfill Waste - Recycled Parts (kg)       10000 non-null  float64\n",
      " 14  Energy Consumption - New Parts (kWh)       10000 non-null  float64\n",
      " 15  Energy Consumption - Recycled Parts (kWh)  10000 non-null  float64\n",
      " 16  Recycling Rate (%)                         10000 non-null  float64\n",
      " 17  Toxicity Score - New Parts                 10000 non-null  float64\n",
      " 18  Toxicity Score - Recycled Parts            10000 non-null  float64\n",
      " 19  Remanufacturing Potential                  10000 non-null  float64\n",
      " 20  Life Cycle Assessment                      10000 non-null  float64\n",
      " 21  Renewable Material Content (%)             10000 non-null  float64\n",
      " 22  Carbon Footprint Saved (kg CO2e)           10000 non-null  float64\n",
      " 23  Water Usage Saved (liters)                 10000 non-null  float64\n",
      " 24  Landfill Waste Saved (kg)                  10000 non-null  float64\n",
      " 25  Energy Consumption Saved (kWh)             10000 non-null  float64\n",
      " 26  Toxicity Score Difference                  10000 non-null  float64\n",
      " 27  Remanufacturing Potential (%)              10000 non-null  float64\n",
      " 28  Life Cycle Assessment Score                10000 non-null  float64\n",
      "dtypes: float64(22), string(7)\n",
      "memory usage: 2.2 MB\n"
     ]
    }
   ],
   "source": [
    "df.info()"
   ]
  },
  {
   "cell_type": "code",
   "execution_count": 68,
   "metadata": {},
   "outputs": [
    {
     "name": "stdout",
     "output_type": "stream",
     "text": [
      "[string[python], string[python], dtype('float64'), string[python], string[python], string[python], string[python], string[python], dtype('float64'), dtype('float64'), dtype('float64'), dtype('float64'), dtype('float64'), dtype('float64'), dtype('float64'), dtype('float64'), dtype('float64'), dtype('float64'), dtype('float64'), dtype('float64'), dtype('float64'), dtype('float64'), dtype('float64'), dtype('float64'), dtype('float64'), dtype('float64'), dtype('float64'), dtype('float64'), dtype('float64'), string[python]]\n"
     ]
    }
   ],
   "source": [
    "# Get the column names and data types of the DataFrame\n",
    "columns = df.columns\n",
    "data_types = df.dtypes\n",
    "\n",
    "print(data_types.tolist())\n",
    "\n",
    "\n",
    "# Insert the DataFrame into the ClickHouse table\n"
   ]
  },
  {
   "cell_type": "code",
   "execution_count": 64,
   "metadata": {},
   "outputs": [
    {
     "data": {
      "text/plain": [
       "'CREATE TABLE dev.airb (\\n    \"Part Name\" String, \"Material Composition\" String, \"Age (years)\" Float64, \"Condition\" String, \"Location\" String, \"Manufacturer\" String, \"Aircraft Model\" String, \"Potential Use Cases\" String, \"New Parts Carbon Footprint (kg CO2e)\" Float64, \"Recycled Parts Carbon Footprint (kg CO2e)\" Float64, \"Water Usage - New Parts (liters)\" Float64, \"Water Usage - Recycled Parts (liters)\" Float64, \"Landfill Waste - New Parts (kg)\" Float64, \"Landfill Waste - Recycled Parts (kg)\" Float64, \"Energy Consumption - New Parts (kWh)\" Float64, \"Energy Consumption - Recycled Parts (kWh)\" Float64, \"Recycling Rate (%)\" Float64, \"Toxicity Score - New Parts\" Float64, \"Toxicity Score - Recycled Parts\" Float64, \"Remanufacturing Potential\" Float64, \"Life Cycle Assessment\" Float64, \"Renewable Material Content (%)\" Float64, \"Carbon Footprint Saved (kg CO2e)\" Float64, \"Water Usage Saved (liters)\" Float64, \"Landfill Waste Saved (kg)\" Float64, \"Energy Consumption Saved (kWh)\" Float64, \"Toxicity Score Difference\" Float64, \"Remanufacturing Potential (%)\" Float64, \"Life Cycle Assessment Score\" Float64, \"airId\" String,\\n    PRIMARY KEY (airId)\\n  );'"
      ]
     },
     "execution_count": 64,
     "metadata": {},
     "output_type": "execute_result"
    }
   ],
   "source": [
    "statement = \"\"\"CREATE TABLE {} (\n",
    "    {},\n",
    "    PRIMARY KEY (airId)\n",
    "  );\"\"\".format(\n",
    "      'dev.airb',\n",
    "      ', '.join('\"{}\" {}'.format(column, str(data_type).capitalize()) for column, data_type in zip(columns, data_types))\n",
    "      \n",
    "  )\n",
    "statement"
   ]
  },
  {
   "cell_type": "code",
   "execution_count": 65,
   "metadata": {},
   "outputs": [
    {
     "data": {
      "text/plain": [
       "''"
      ]
     },
     "execution_count": 65,
     "metadata": {},
     "output_type": "execute_result"
    }
   ],
   "source": [
    "client.command(statement)"
   ]
  },
  {
   "cell_type": "code",
   "execution_count": 67,
   "metadata": {},
   "outputs": [],
   "source": [
    "client.insert_df('airb', df,database='dev')"
   ]
  }
 ],
 "metadata": {
  "kernelspec": {
   "display_name": "Python 3",
   "language": "python",
   "name": "python3"
  },
  "language_info": {
   "codemirror_mode": {
    "name": "ipython",
    "version": 3
   },
   "file_extension": ".py",
   "mimetype": "text/x-python",
   "name": "python",
   "nbconvert_exporter": "python",
   "pygments_lexer": "ipython3",
   "version": "3.9.0"
  },
  "orig_nbformat": 4
 },
 "nbformat": 4,
 "nbformat_minor": 2
}
